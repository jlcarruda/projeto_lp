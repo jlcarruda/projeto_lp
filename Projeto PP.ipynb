{
 "cells": [
  {
   "cell_type": "code",
   "execution_count": null,
   "metadata": {},
   "outputs": [],
   "source": [
    "import pandas as pd\n",
    "pd.set_option(\"display.max_columns\",166)"
   ]
  },
  {
   "cell_type": "code",
   "execution_count": null,
   "metadata": {},
   "outputs": [],
   "source": [
    "datasetProposta = pd.read_csv('C:\\Users\\wellington\\Documents\\ciencia dos dados\\dados\\siconv_proposta.csv', sep=';')\n",
    "#datasetProposta.isnull().sum()#preocupante os itens vazios, mas não afeta pernambuco (vai apagar?)"
   ]
  },
  {
   "cell_type": "code",
   "execution_count": null,
   "metadata": {},
   "outputs": [],
   "source": [
    "datasetDeputado = pd.read_csv('C:\\Users\\wellington\\Documents\\ciencia dos dados\\dados\\deputado.csv', sep=';')"
   ]
  },
  {
   "cell_type": "code",
   "execution_count": null,
   "metadata": {},
   "outputs": [],
   "source": [
    "datasetSenador = pd.read_csv('C:\\Users\\wellington\\Documents\\ciencia dos dados\\dados\\senadores.csv', sep=';')"
   ]
  },
  {
   "cell_type": "code",
   "execution_count": null,
   "metadata": {},
   "outputs": [],
   "source": [
    "datasetConvenio = pd.read_csv('C:\\Users\\wellington\\Documents\\ciencia dos dados\\dados\\siconv_convenio.csv', sep=';')"
   ]
  },
  {
   "cell_type": "code",
   "execution_count": null,
   "metadata": {},
   "outputs": [],
   "source": [
    "datasetDesembolso = pd.read_csv('C:\\Users\\wellington\\Documents\\ciencia dos dados\\dados\\siconv_desembolso.csv', sep=';')"
   ]
  },
  {
   "cell_type": "code",
   "execution_count": null,
   "metadata": {},
   "outputs": [],
   "source": [
    "datasetEmenda = pd.read_csv('C:\\Users\\wellington\\Documents\\ciencia dos dados\\dados\\siconv_emenda.csv', sep=';')"
   ]
  },
  {
   "cell_type": "code",
   "execution_count": null,
   "metadata": {},
   "outputs": [],
   "source": [
    "datasetEmpenho = pd.read_csv('C:\\Users\\wellington\\Documents\\ciencia dos dados\\dados\\siconv_empenho.csv', sep=';')"
   ]
  },
  {
   "cell_type": "code",
   "execution_count": null,
   "metadata": {},
   "outputs": [],
   "source": [
    "datasetPagamento = pd.read_csv('C:\\Users\\wellington\\Documents\\ciencia dos dados\\dados\\siconv_pagamento.csv', sep=';')"
   ]
  },
  {
   "cell_type": "code",
   "execution_count": null,
   "metadata": {},
   "outputs": [],
   "source": [
    "datasetHistSitua = pd.read_csv('C:\\Users\\wellington\\Documents\\ciencia dos dados\\dados\\siconv_historico_situacao.csv', sep=';')"
   ]
  },
  {
   "cell_type": "code",
   "execution_count": null,
   "metadata": {},
   "outputs": [],
   "source": [
    "datasetMeta = pd.read_csv('C:\\Users\\wellington\\Documents\\ciencia dos dados\\dados\\siconv_meta_crono_fisico.csv', sep=';')"
   ]
  },
  {
   "cell_type": "code",
   "execution_count": null,
   "metadata": {},
   "outputs": [],
   "source": [
    "datasetConvenente = pd.read_csv('C:\\Users\\wellington\\Documents\\ciencia dos dados\\dados\\siconv_obtv_convenente.csv', sep=';')"
   ]
  },
  {
   "cell_type": "code",
   "execution_count": null,
   "metadata": {},
   "outputs": [],
   "source": [
    "datasetTermo = pd.read_csv('C:\\Users\\wellington\\Documents\\ciencia dos dados\\dados\\siconv_termo_aditivo.csv', sep=';')"
   ]
  },
  {
   "cell_type": "code",
   "execution_count": null,
   "metadata": {},
   "outputs": [],
   "source": [
    "datasetEscolas = pd.read_csv('C:\\Users\\wellington\\Documents\\ciencia dos dados\\dados\\escolas.csv', encoding='ISO-8859-1', sep='|')\n",
    "#datasetEscolas.isnull().sum()\n",
    "datasetEscolas.loc[datasetEscolas['CO_MUNICIPIO'] == 2600203.0]#codigo do municipio da tabela proposta\n",
    "\n",
    "#pd.value_counts(datasetEscolas['CO_MESORREGIAO'])"
   ]
  },
  {
   "cell_type": "code",
   "execution_count": null,
   "metadata": {},
   "outputs": [],
   "source": [
    "datasetDataCarga = pd.read_csv('C:\\Users\\wellington\\Documents\\ciencia dos dados\\dados\\data_carga_siconv.csv', sep=';')"
   ]
  },
  {
   "cell_type": "code",
   "execution_count": null,
   "metadata": {},
   "outputs": [],
   "source": [
    "prospostaEducacaoPE = datasetProposta.loc[(datasetProposta['DESC_ORGAO_SUP'] == 'MINISTERIO DA EDUCACAO') & (datasetProposta['UF_PROPONENTE'] == 'PE')]\n",
    "prospostaEducacaoPE.head()\n",
    "\n",
    "#situacao = pd.value_counts(prospostaEducacaoPE['SITUACAO_CONTA'])#situacao das propostas\n",
    "#situacao\n",
    "%matplotlib notebook\n",
    "situacao.plot(x='SITUACAO_CONTA', title='Situção das propostas',color='r')\n",
    "\n",
    "#prospostaEducacaoPE.isnull().sum()#itens vazios '''"
   ]
  },
  {
   "cell_type": "code",
   "execution_count": null,
   "metadata": {},
   "outputs": [],
   "source": [
    "pd.value_counts(datasetProposta['SITUACAO_CONTA'])"
   ]
  }
 ],
 "metadata": {
  "kernelspec": {
   "display_name": "Python 2",
   "language": "python",
   "name": "python2"
  },
  "language_info": {
   "codemirror_mode": {
    "name": "ipython",
    "version": 2
   },
   "file_extension": ".py",
   "mimetype": "text/x-python",
   "name": "python",
   "nbconvert_exporter": "python",
   "pygments_lexer": "ipython2",
   "version": "2.7.15"
  }
 },
 "nbformat": 4,
 "nbformat_minor": 2
}
